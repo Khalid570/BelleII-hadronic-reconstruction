{
 "cells": [
  {
   "cell_type": "code",
   "execution_count": 1,
   "id": "dccadbad",
   "metadata": {},
   "outputs": [
    {
     "name": "stdout",
     "output_type": "stream",
     "text": [
      "Welcome to JupyROOT 6.24/00\n"
     ]
    }
   ],
   "source": [
    "import matplotlib.pyplot as plt\n",
    "from root_pandas import read_root\n",
    "import mdst"
   ]
  },
  {
   "cell_type": "code",
   "execution_count": 2,
   "id": "0f53ee21",
   "metadata": {},
   "outputs": [],
   "source": [
    "plt.style.use(\"belle2\")"
   ]
  },
  {
   "cell_type": "code",
   "execution_count": 20,
   "id": "1335ce82",
   "metadata": {},
   "outputs": [],
   "source": [
    "df = read_root('~/sad15/sad/pion7/piongen_Mbc_fit.root')"
   ]
  },
  {
   "cell_type": "code",
   "execution_count": 21,
   "id": "163686bf",
   "metadata": {},
   "outputs": [
    {
     "name": "stdout",
     "output_type": "stream",
     "text": [
      "__experiment__\n",
      "__run__\n",
      "__event__\n",
      "__production__\n",
      "__candidate__\n",
      "__ncandidates__\n",
      "__weight__\n",
      "D_K_px\n",
      "D_K_py\n",
      "D_K_pz\n",
      "D_K_pt\n",
      "D_K_p\n",
      "D_K_E\n",
      "D_K_mcE\n",
      "D_K_mcP\n",
      "D_K_mcPT\n",
      "D_K_mcPX\n",
      "D_K_mcPY\n",
      "D_K_mcPZ\n",
      "D_K_mcPhi\n",
      "D_K_isSignal\n",
      "D_K_mcErrors\n",
      "D_K_mcPDG\n",
      "D_K_electronID\n",
      "D_K_muonID\n",
      "D_K_pionID\n",
      "D_K_kaonID\n",
      "D_K_protonID\n",
      "D_K_deuteronID\n",
      "D_K_binaryPID_11_211\n",
      "D_K_binaryPID_13_211\n",
      "D_K_binaryPID_211_321\n",
      "D_K_binaryPID_321_2212\n",
      "D_K_binaryPID_211_2212\n",
      "D_K_dr\n",
      "D_K_dx\n",
      "D_K_dy\n",
      "D_K_dz\n",
      "D_K_d0\n",
      "D_K_z0\n",
      "D_K_pValue\n",
      "D_K_ndf\n",
      "D_K_nCDCHits\n",
      "D_K_nPXDHits\n",
      "D_K_nSVDHits\n",
      "D_K_nVXDHits\n",
      "D_pi_px\n",
      "D_pi_py\n",
      "D_pi_pz\n",
      "D_pi_pt\n",
      "D_pi_p\n",
      "D_pi_E\n",
      "D_pi_mcE\n",
      "D_pi_mcP\n",
      "D_pi_mcPT\n",
      "D_pi_mcPX\n",
      "D_pi_mcPY\n",
      "D_pi_mcPZ\n",
      "D_pi_mcPhi\n",
      "D_pi_isSignal\n",
      "D_pi_mcErrors\n",
      "D_pi_mcPDG\n",
      "D_pi_electronID\n",
      "D_pi_muonID\n",
      "D_pi_pionID\n",
      "D_pi_kaonID\n",
      "D_pi_protonID\n",
      "D_pi_deuteronID\n",
      "D_pi_binaryPID_11_211\n",
      "D_pi_binaryPID_13_211\n",
      "D_pi_binaryPID_211_321\n",
      "D_pi_binaryPID_321_2212\n",
      "D_pi_binaryPID_211_2212\n",
      "D_pi_dr\n",
      "D_pi_dx\n",
      "D_pi_dy\n",
      "D_pi_dz\n",
      "D_pi_d0\n",
      "D_pi_z0\n",
      "D_pi_pValue\n",
      "D_pi_ndf\n",
      "D_pi_nCDCHits\n",
      "D_pi_nPXDHits\n",
      "D_pi_nSVDHits\n",
      "D_pi_nVXDHits\n",
      "D_pit_px\n",
      "D_pit_py\n",
      "D_pit_pz\n",
      "D_pit_pt\n",
      "D_pit_p\n",
      "D_pit_E\n",
      "D_pit_mcE\n",
      "D_pit_mcP\n",
      "D_pit_mcPT\n",
      "D_pit_mcPX\n",
      "D_pit_mcPY\n",
      "D_pit_mcPZ\n",
      "D_pit_mcPhi\n",
      "D_pit_isSignal\n",
      "D_pit_mcErrors\n",
      "D_pit_mcPDG\n",
      "D_pit_electronID\n",
      "D_pit_muonID\n",
      "D_pit_pionID\n",
      "D_pit_kaonID\n",
      "D_pit_protonID\n",
      "D_pit_deuteronID\n",
      "D_pit_binaryPID_11_211\n",
      "D_pit_binaryPID_13_211\n",
      "D_pit_binaryPID_211_321\n",
      "D_pit_binaryPID_321_2212\n",
      "D_pit_binaryPID_211_2212\n",
      "D_pit_dr\n",
      "D_pit_dx\n",
      "D_pit_dy\n",
      "D_pit_dz\n",
      "D_pit_d0\n",
      "D_pit_z0\n",
      "D_pit_pValue\n",
      "D_pit_ndf\n",
      "D_pit_nCDCHits\n",
      "D_pit_nPXDHits\n",
      "D_pit_nSVDHits\n",
      "D_pit_nVXDHits\n",
      "pi_px\n",
      "pi_py\n",
      "pi_pz\n",
      "pi_pt\n",
      "pi_p\n",
      "pi_E\n",
      "pi_mcE\n",
      "pi_mcP\n",
      "pi_mcPT\n",
      "pi_mcPX\n",
      "pi_mcPY\n",
      "pi_mcPZ\n",
      "pi_mcPhi\n",
      "pi_isSignal\n",
      "pi_mcErrors\n",
      "pi_mcPDG\n",
      "pi_electronID\n",
      "pi_muonID\n",
      "pi_pionID\n",
      "pi_kaonID\n",
      "pi_protonID\n",
      "pi_deuteronID\n",
      "pi_binaryPID_11_211\n",
      "pi_binaryPID_13_211\n",
      "pi_binaryPID_211_321\n",
      "pi_binaryPID_321_2212\n",
      "pi_binaryPID_211_2212\n",
      "pi_dr\n",
      "pi_dx\n",
      "pi_dy\n",
      "pi_dz\n",
      "pi_d0\n",
      "pi_z0\n",
      "pi_pValue\n",
      "pi_ndf\n",
      "pi_nCDCHits\n",
      "pi_nPXDHits\n",
      "pi_nSVDHits\n",
      "pi_nVXDHits\n",
      "D_px\n",
      "D_py\n",
      "D_pz\n",
      "D_pt\n",
      "D_p\n",
      "D_E\n",
      "D_mcE\n",
      "D_mcP\n",
      "D_mcPT\n",
      "D_mcPX\n",
      "D_mcPY\n",
      "D_mcPZ\n",
      "D_mcPhi\n",
      "D_isSignal\n",
      "D_mcErrors\n",
      "D_mcPDG\n",
      "D_distance\n",
      "D_significanceOfDistance\n",
      "D_dx\n",
      "D_dy\n",
      "D_dz\n",
      "D_x\n",
      "D_y\n",
      "D_z\n",
      "D_x_uncertainty\n",
      "D_y_uncertainty\n",
      "D_z_uncertainty\n",
      "D_dr\n",
      "D_dphi\n",
      "D_dcosTheta\n",
      "D_prodVertexX\n",
      "D_prodVertexY\n",
      "D_prodVertexZ\n",
      "D_prodVertexXErr\n",
      "D_prodVertexYErr\n",
      "D_prodVertexZErr\n",
      "D_chiProb\n",
      "D_mcDecayVertexX\n",
      "D_mcDecayVertexY\n",
      "D_mcDecayVertexZ\n",
      "D_mcDecayVertexFromIPDistance\n",
      "D_mcDecayVertexRho\n",
      "D_mcProductionVertexX\n",
      "D_mcProductionVertexY\n",
      "D_mcProductionVertexZ\n",
      "D_M\n",
      "D_ErrM\n",
      "D_SigM\n",
      "D_InvM\n",
      "px\n",
      "py\n",
      "pz\n",
      "pt\n",
      "p\n",
      "E\n",
      "mcE\n",
      "mcP\n",
      "mcPT\n",
      "mcPX\n",
      "mcPY\n",
      "mcPZ\n",
      "mcPhi\n",
      "isSignal\n",
      "mcErrors\n",
      "mcPDG\n",
      "distance\n",
      "significanceOfDistance\n",
      "dx\n",
      "dy\n",
      "dz\n",
      "x\n",
      "y\n",
      "z\n",
      "x_uncertainty\n",
      "y_uncertainty\n",
      "z_uncertainty\n",
      "dr\n",
      "dphi\n",
      "dcosTheta\n",
      "prodVertexX\n",
      "prodVertexY\n",
      "prodVertexZ\n",
      "prodVertexXErr\n",
      "prodVertexYErr\n",
      "prodVertexZErr\n",
      "chiProb\n",
      "mcDecayVertexX\n",
      "mcDecayVertexY\n",
      "mcDecayVertexZ\n",
      "mcDecayVertexFromIPDistance\n",
      "mcDecayVertexRho\n",
      "mcProductionVertexX\n",
      "mcProductionVertexY\n",
      "mcProductionVertexZ\n",
      "Mbc\n",
      "deltaE\n"
     ]
    }
   ],
   "source": [
    "for column in df.columns:\n",
    "    print(column)"
   ]
  },
  {
   "cell_type": "code",
   "execution_count": 22,
   "id": "7e78a5de",
   "metadata": {},
   "outputs": [
    {
     "data": {
      "text/plain": [
       "(0.0, 1.0)"
      ]
     },
     "execution_count": 22,
     "metadata": {},
     "output_type": "execute_result"
    },
    {
     "data": {
      "image/png": "[encoded data removed]",
      "text/plain": [
       "<Figure size 576x396 with 1 Axes>"
      ]
     },
     "metadata": {},
     "output_type": "display_data"
    }
   ],
   "source": [
    "df['pi_pionID'].hist(bins=100, range=(0, 1))\n",
    "plt.xlabel(r'$\\pi$ PID of bachelor pion')\n",
    "plt.ylabel('Number of candidates')\n",
    "plt.xlim(0, 1)"
   ]
  },
  {
   "cell_type": "code",
   "execution_count": 23,
   "id": "b65a12bb",
   "metadata": {},
   "outputs": [
    {
     "data": {
      "text/plain": [
       "(5.2, 5.29)"
      ]
     },
     "execution_count": 23,
     "metadata": {},
     "output_type": "execute_result"
    },
    {
     "data": {
      "image/png": "[encoded data removed]",
      "text/plain": [
       "<Figure size 576x396 with 1 Axes>"
      ]
     },
     "metadata": {},
     "output_type": "display_data"
    }
   ],
   "source": [
    "df.hist('Mbc', bins=100, range=(5.2, 5.3))\n",
    "plt.xlabel(r'M$_{\\rm bc}$ [GeV/c$^{2}$]')\n",
    "plt.ylabel('Number of candidates')\n",
    "plt.xlim(5.2, 5.29)"
   ]
  },
  {
   "cell_type": "code",
   "execution_count": 24,
   "id": "f47c7cee",
   "metadata": {},
   "outputs": [
    {
     "data": {
      "text/plain": [
       "count    131167.000000\n",
       "mean          5.279996\n",
       "std           0.003736\n",
       "min           5.272101\n",
       "25%           5.277400\n",
       "50%           5.279881\n",
       "75%           5.282450\n",
       "max           5.289767\n",
       "Name: Mbc, dtype: float64"
      ]
     },
     "execution_count": 24,
     "metadata": {},
     "output_type": "execute_result"
    }
   ],
   "source": [
    "df[\"Mbc\"].describe()"
   ]
  },
  {
   "cell_type": "code",
   "execution_count": 25,
   "id": "5d376537",
   "metadata": {},
   "outputs": [
    {
     "data": {
      "text/plain": [
       "(1.8, 1.9)"
      ]
     },
     "execution_count": 25,
     "metadata": {},
     "output_type": "execute_result"
    },
    {
     "data": {
      "image/png": "[encoded data removed]",
      "text/plain": [
       "<Figure size 576x396 with 1 Axes>"
      ]
     },
     "metadata": {},
     "output_type": "display_data"
    }
   ],
   "source": [
    "df.hist('D_M', bins=100, range=(1.8, 1.9))\n",
    "plt.xlabel(r'$_{K^{+}\\pi^{-}\\pi^{-}}$ [GeV/c$^{2}$]')\n",
    "plt.ylabel('Number of candidates')\n",
    "plt.xlim(1.8,1.9)"
   ]
  },
  {
   "cell_type": "code",
   "execution_count": 26,
   "id": "dc162da7",
   "metadata": {},
   "outputs": [
    {
     "data": {
      "text/plain": [
       "count    131167.000000\n",
       "mean          1.869418\n",
       "std           0.003885\n",
       "min           1.858710\n",
       "25%           1.866968\n",
       "50%           1.869480\n",
       "75%           1.871906\n",
       "max           1.880149\n",
       "Name: D_M, dtype: float64"
      ]
     },
     "execution_count": 26,
     "metadata": {},
     "output_type": "execute_result"
    }
   ],
   "source": [
    "df[\"D_M\"].describe()"
   ]
  },
  {
   "cell_type": "code",
   "execution_count": 27,
   "id": "1cda1cc6",
   "metadata": {},
   "outputs": [
    {
     "data": {
      "text/plain": [
       "(-0.1, 0.1)"
      ]
     },
     "execution_count": 27,
     "metadata": {},
     "output_type": "execute_result"
    },
    {
     "data": {
      "image/png": "[encoded data removed]",
      "text/plain": [
       "<Figure size 576x396 with 1 Axes>"
      ]
     },
     "metadata": {},
     "output_type": "display_data"
    }
   ],
   "source": [
    "df.hist('deltaE', bins=100, range=(-0.1, 0.1))\n",
    "plt.xlabel(r'$\\Delta E$ [GeV]')\n",
    "plt.ylabel('Number of candidates')\n",
    "plt.xlim(-0.1, 0.1)"
   ]
  },
  {
   "cell_type": "code",
   "execution_count": 28,
   "id": "7299e552",
   "metadata": {},
   "outputs": [
    {
     "data": {
      "text/plain": [
       "count    131167.000000\n",
       "mean         -0.146250\n",
       "std           0.156581\n",
       "min          -0.673230\n",
       "25%          -0.255140\n",
       "50%          -0.150087\n",
       "75%          -0.001054\n",
       "max           0.499892\n",
       "Name: deltaE, dtype: float64"
      ]
     },
     "execution_count": 28,
     "metadata": {},
     "output_type": "execute_result"
    }
   ],
   "source": [
    "df[\"deltaE\"].describe()"
   ]
  },
  {
   "cell_type": "code",
   "execution_count": null,
   "id": "03ef085a",
   "metadata": {},
   "outputs": [],
   "source": []
  },
  {
   "cell_type": "code",
   "execution_count": null,
   "id": "ab1072bd",
   "metadata": {},
   "outputs": [],
   "source": []
  }
 ],
 "metadata": {
  "kernelspec": {
   "display_name": "Python 3 (Belle2)",
   "language": "python",
   "name": "python3"
  },
  "language_info": {
   "codemirror_mode": {
    "name": "ipython",
    "version": 3
   },
   "file_extension": ".py",
   "mimetype": "text/x-python",
   "name": "python",
   "nbconvert_exporter": "python",
   "pygments_lexer": "ipython3",
   "version": "3.8.8"
  }
 },
 "nbformat": 4,
 "nbformat_minor": 5
}
